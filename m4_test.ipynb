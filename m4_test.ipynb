{
 "cells": [
  {
   "cell_type": "code",
   "execution_count": 1,
   "metadata": {},
   "outputs": [],
   "source": [
    "import numpy as np\n",
    "import pandas as pd\n",
    "\n",
    "from M4_experiment import M4_parser\n",
    "from ESRNN import ESRNN"
   ]
  },
  {
   "cell_type": "code",
   "execution_count": 2,
   "metadata": {},
   "outputs": [
    {
     "name": "stdout",
     "output_type": "stream",
     "text": [
      "  unique_id         ts      x\n",
      "0        Q1 1970-01-02  Macro\n",
      "1        Q1 1970-01-03  Macro\n",
      "2        Q1 1970-01-04  Macro\n",
      "3        Q1 1970-01-05  Macro\n",
      "4        Q1 1970-01-06  Macro\n",
      "0    7407.412314\n",
      "1    7528.566074\n",
      "2    7374.709225\n",
      "3    7395.514848\n",
      "4    7654.007989\n",
      "5    7686.847835\n",
      "Name: y, dtype: float64\n"
     ]
    }
   ],
   "source": [
    "X, y = M4_parser(dataset_name='Quarterly', mode='train', num_obs=100)\n",
    "print(X.head())\n",
    "print(y[0:6])"
   ]
  },
  {
   "cell_type": "code",
   "execution_count": 3,
   "metadata": {},
   "outputs": [],
   "source": [
    "esrnn = ESRNN()"
   ]
  },
  {
   "cell_type": "code",
   "execution_count": 4,
   "metadata": {},
   "outputs": [
    {
     "name": "stdout",
     "output_type": "stream",
     "text": [
      "========== Training ESRNN ==========\n",
      "========= Epoch 0 finished =========\n",
      "Training time: 7.709380865097046\n",
      "Forecast loss: 0.08918653428554535\n",
      "========= Epoch 1 finished =========\n",
      "Training time: 8.169897317886353\n",
      "Forecast loss: 0.07979694753885269\n",
      "========= Epoch 2 finished =========\n",
      "Training time: 8.21605134010315\n",
      "Forecast loss: 0.0774252787232399\n",
      "========= Epoch 3 finished =========\n",
      "Training time: 8.127370119094849\n",
      "Forecast loss: 0.07567623257637024\n",
      "========= Epoch 4 finished =========\n",
      "Training time: 8.140428066253662\n",
      "Forecast loss: 0.07401363551616669\n",
      "========= Epoch 5 finished =========\n",
      "Training time: 8.183840990066528\n",
      "Forecast loss: 0.07247167080640793\n",
      "========= Epoch 6 finished =========\n",
      "Training time: 8.320747137069702\n",
      "Forecast loss: 0.07127824425697327\n",
      "========= Epoch 7 finished =========\n",
      "Training time: 8.362015008926392\n",
      "Forecast loss: 0.0701330304145813\n",
      "========= Epoch 8 finished =========\n",
      "Training time: 8.366482257843018\n",
      "Forecast loss: 0.06910159438848495\n",
      "========= Epoch 9 finished =========\n",
      "Training time: 8.352855920791626\n",
      "Forecast loss: 0.06794066727161407\n",
      "========= Epoch 10 finished =========\n",
      "Training time: 8.322083234786987\n",
      "Forecast loss: 0.06686705350875854\n",
      "========= Epoch 11 finished =========\n",
      "Training time: 8.492604970932007\n",
      "Forecast loss: 0.06579682230949402\n",
      "========= Epoch 12 finished =========\n",
      "Training time: 8.38093113899231\n",
      "Forecast loss: 0.0649251714348793\n",
      "========= Epoch 13 finished =========\n",
      "Training time: 8.387951135635376\n",
      "Forecast loss: 0.06411128491163254\n",
      "========= Epoch 14 finished =========\n",
      "Training time: 8.33635926246643\n",
      "Forecast loss: 0.06336528062820435\n",
      "Train finished!\n"
     ]
    }
   ],
   "source": [
    "esrnn.fit(X,y)"
   ]
  },
  {
   "cell_type": "code",
   "execution_count": null,
   "metadata": {},
   "outputs": [],
   "source": []
  },
  {
   "cell_type": "code",
   "execution_count": null,
   "metadata": {},
   "outputs": [],
   "source": []
  }
 ],
 "metadata": {
  "kernelspec": {
   "display_name": "esrnn_torch",
   "language": "python",
   "name": "esrnn_torch"
  },
  "language_info": {
   "codemirror_mode": {
    "name": "ipython",
    "version": 3
   },
   "file_extension": ".py",
   "mimetype": "text/x-python",
   "name": "python",
   "nbconvert_exporter": "python",
   "pygments_lexer": "ipython3",
   "version": "3.6.10"
  }
 },
 "nbformat": 4,
 "nbformat_minor": 4
}
