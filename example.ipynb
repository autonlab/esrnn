{
 "cells": [
  {
   "cell_type": "markdown",
   "metadata": {},
   "source": [
    "### TO-DOS:\n",
    "-hyperparameters without config file\n",
    "\n",
    "-automatically one-hot encode categoric variables\n",
    "\n",
    "-dilated RNN\n",
    "\n",
    "-current arquitecure is optimized for quarterly data (from M4), include all the arquitectures\n",
    "\n",
    "-max_series_length as hyper-parameter"
   ]
  },
  {
   "cell_type": "markdown",
   "metadata": {},
   "source": [
    "### Extremely important parameters (not yet optimized):\n",
    "- learning rate\n",
    "- epochs (affects wiggliness, loss always decrease reducing wiggliness through variability loss)\n",
    "- seasonality (the input of the RNN is one season)\n",
    "- input size\n",
    "- level_variability_penalty (relative importance between forecast and wiggliness)\n",
    "- dilations: currently the length of this list controls the num of hidden layers"
   ]
  },
  {
   "cell_type": "code",
   "execution_count": 1,
   "metadata": {},
   "outputs": [],
   "source": [
    "import os\n",
    "import pandas as pd\n",
    "import numpy as np\n",
    "import matplotlib.pyplot as plt\n",
    "from esrnn import ESRNN\n",
    "plt.style.use('ggplot')"
   ]
  },
  {
   "cell_type": "code",
   "execution_count": 2,
   "metadata": {},
   "outputs": [],
   "source": [
    "# Plot\n",
    "def plot_prediction(y, y_hat):\n",
    "    n_y = len(y)\n",
    "    n_yhat = len(y_hat)\n",
    "    ds_y = np.array(range(n_y))\n",
    "    ds_yhat = np.array(range(n_y, n_y+n_yhat))\n",
    "\n",
    "    plt.plot(ds_y, y, label = 'y')\n",
    "    plt.plot(ds_yhat, y_hat, label='y_hat')\n",
    "    plt.legend(loc='upper left')\n",
    "    plt.show()"
   ]
  },
  {
   "cell_type": "code",
   "execution_count": 3,
   "metadata": {},
   "outputs": [
    {
     "data": {
      "text/html": [
       "<div>\n",
       "<style scoped>\n",
       "    .dataframe tbody tr th:only-of-type {\n",
       "        vertical-align: middle;\n",
       "    }\n",
       "\n",
       "    .dataframe tbody tr th {\n",
       "        vertical-align: top;\n",
       "    }\n",
       "\n",
       "    .dataframe thead th {\n",
       "        text-align: right;\n",
       "    }\n",
       "</style>\n",
       "<table border=\"1\" class=\"dataframe\">\n",
       "  <thead>\n",
       "    <tr style=\"text-align: right;\">\n",
       "      <th></th>\n",
       "      <th>Company</th>\n",
       "      <th>Year</th>\n",
       "      <th>Date</th>\n",
       "      <th>Close</th>\n",
       "    </tr>\n",
       "  </thead>\n",
       "  <tbody>\n",
       "    <tr>\n",
       "      <th>0</th>\n",
       "      <td>abbv</td>\n",
       "      <td>2013</td>\n",
       "      <td>2013-01-04</td>\n",
       "      <td>28.810</td>\n",
       "    </tr>\n",
       "    <tr>\n",
       "      <th>1</th>\n",
       "      <td>abbv</td>\n",
       "      <td>2013</td>\n",
       "      <td>2013-01-07</td>\n",
       "      <td>28.869</td>\n",
       "    </tr>\n",
       "    <tr>\n",
       "      <th>2</th>\n",
       "      <td>abbv</td>\n",
       "      <td>2013</td>\n",
       "      <td>2013-01-08</td>\n",
       "      <td>28.242</td>\n",
       "    </tr>\n",
       "    <tr>\n",
       "      <th>3</th>\n",
       "      <td>abbv</td>\n",
       "      <td>2013</td>\n",
       "      <td>2013-01-09</td>\n",
       "      <td>28.399</td>\n",
       "    </tr>\n",
       "    <tr>\n",
       "      <th>4</th>\n",
       "      <td>abbv</td>\n",
       "      <td>2013</td>\n",
       "      <td>2013-01-10</td>\n",
       "      <td>28.481</td>\n",
       "    </tr>\n",
       "  </tbody>\n",
       "</table>\n",
       "</div>"
      ],
      "text/plain": [
       "  Company  Year       Date   Close\n",
       "0    abbv  2013 2013-01-04  28.810\n",
       "1    abbv  2013 2013-01-07  28.869\n",
       "2    abbv  2013 2013-01-08  28.242\n",
       "3    abbv  2013 2013-01-09  28.399\n",
       "4    abbv  2013 2013-01-10  28.481"
      ]
     },
     "execution_count": 3,
     "metadata": {},
     "output_type": "execute_result"
    }
   ],
   "source": [
    "# Original stock data\n",
    "data = pd.read_csv('train.csv')\n",
    "data['Date'] = data['Year'].astype(str)+'-'+data['Date'].astype(str)\n",
    "data['Date'] = pd.to_datetime(data['Date'])\n",
    "data = data[['Company','Year','Date','Close']]\n",
    "data.head()"
   ]
  },
  {
   "cell_type": "code",
   "execution_count": 4,
   "metadata": {},
   "outputs": [
    {
     "data": {
      "text/html": [
       "<div>\n",
       "<style scoped>\n",
       "    .dataframe tbody tr th:only-of-type {\n",
       "        vertical-align: middle;\n",
       "    }\n",
       "\n",
       "    .dataframe tbody tr th {\n",
       "        vertical-align: top;\n",
       "    }\n",
       "\n",
       "    .dataframe thead th {\n",
       "        text-align: right;\n",
       "    }\n",
       "</style>\n",
       "<table border=\"1\" class=\"dataframe\">\n",
       "  <thead>\n",
       "    <tr style=\"text-align: right;\">\n",
       "      <th></th>\n",
       "      <th>unique_id</th>\n",
       "      <th>ds</th>\n",
       "      <th>y</th>\n",
       "    </tr>\n",
       "  </thead>\n",
       "  <tbody>\n",
       "    <tr>\n",
       "      <th>0</th>\n",
       "      <td>abbv_2013</td>\n",
       "      <td>2013-01-04</td>\n",
       "      <td>28.810</td>\n",
       "    </tr>\n",
       "    <tr>\n",
       "      <th>1</th>\n",
       "      <td>abbv_2013</td>\n",
       "      <td>2013-01-07</td>\n",
       "      <td>28.869</td>\n",
       "    </tr>\n",
       "    <tr>\n",
       "      <th>2</th>\n",
       "      <td>abbv_2013</td>\n",
       "      <td>2013-01-08</td>\n",
       "      <td>28.242</td>\n",
       "    </tr>\n",
       "    <tr>\n",
       "      <th>3</th>\n",
       "      <td>abbv_2013</td>\n",
       "      <td>2013-01-09</td>\n",
       "      <td>28.399</td>\n",
       "    </tr>\n",
       "    <tr>\n",
       "      <th>4</th>\n",
       "      <td>abbv_2013</td>\n",
       "      <td>2013-01-10</td>\n",
       "      <td>28.481</td>\n",
       "    </tr>\n",
       "  </tbody>\n",
       "</table>\n",
       "</div>"
      ],
      "text/plain": [
       "   unique_id         ds       y\n",
       "0  abbv_2013 2013-01-04  28.810\n",
       "1  abbv_2013 2013-01-07  28.869\n",
       "2  abbv_2013 2013-01-08  28.242\n",
       "3  abbv_2013 2013-01-09  28.399\n",
       "4  abbv_2013 2013-01-10  28.481"
      ]
     },
     "execution_count": 4,
     "metadata": {},
     "output_type": "execute_result"
    }
   ],
   "source": [
    "# Clean data (model assumes this name columns)\n",
    "data['unique_id'] = data['Company']+\"_\"+data['Year'].astype(str)\n",
    "data = data.rename(columns={'Date':'ds', 'Close':'y'})\n",
    "data = data[['unique_id','ds','y']]\n",
    "data.head()"
   ]
  },
  {
   "cell_type": "code",
   "execution_count": 5,
   "metadata": {},
   "outputs": [],
   "source": [
    "esrnn = ESRNN() #hyperpars are specified in a .yaml file"
   ]
  },
  {
   "cell_type": "code",
   "execution_count": 6,
   "metadata": {},
   "outputs": [
    {
     "name": "stdout",
     "output_type": "stream",
     "text": [
      "========== Training esrnn ==========\n",
      "========= Epoch 0 finished =========\n",
      "Training time: 4.244779109954834\n",
      "Forecast loss: 1.4770020246505737\n",
      "========= Epoch 1 finished =========\n",
      "Training time: 4.048706769943237\n",
      "Forecast loss: 1.47347891330719\n",
      "========= Epoch 2 finished =========\n",
      "Training time: 4.052459955215454\n",
      "Forecast loss: 1.472402572631836\n",
      "========= Epoch 3 finished =========\n",
      "Training time: 3.979429244995117\n",
      "Forecast loss: 1.4703378677368164\n",
      "========= Epoch 4 finished =========\n",
      "Training time: 4.045522928237915\n",
      "Forecast loss: 1.467130184173584\n",
      "========= Epoch 5 finished =========\n",
      "Training time: 4.004010915756226\n",
      "Forecast loss: 1.4623655080795288\n",
      "========= Epoch 6 finished =========\n",
      "Training time: 4.004010915756226\n",
      "Forecast loss: 1.4567840099334717\n",
      "========= Epoch 7 finished =========\n",
      "Training time: 4.029497861862183\n",
      "Forecast loss: 1.450331211090088\n",
      "========= Epoch 8 finished =========\n",
      "Training time: 4.013527154922485\n",
      "Forecast loss: 1.4427990913391113\n",
      "========= Epoch 9 finished =========\n",
      "Training time: 4.025744199752808\n",
      "Forecast loss: 1.4342541694641113\n",
      "========= Epoch 10 finished =========\n",
      "Training time: 4.0057008266448975\n",
      "Forecast loss: 1.4249343872070312\n",
      "========= Epoch 11 finished =========\n",
      "Training time: 4.034793853759766\n",
      "Forecast loss: 1.4148823022842407\n",
      "========= Epoch 12 finished =========\n",
      "Training time: 4.063139200210571\n",
      "Forecast loss: 1.4042352437973022\n",
      "========= Epoch 13 finished =========\n",
      "Training time: 4.037888050079346\n",
      "Forecast loss: 1.3931678533554077\n",
      "========= Epoch 14 finished =========\n",
      "Training time: 4.056843042373657\n",
      "Forecast loss: 1.3818087577819824\n",
      "========= Epoch 15 finished =========\n",
      "Training time: 4.052463054656982\n",
      "Forecast loss: 1.3701995611190796\n",
      "========= Epoch 16 finished =========\n",
      "Training time: 4.064364194869995\n",
      "Forecast loss: 1.3583612442016602\n",
      "========= Epoch 17 finished =========\n",
      "Training time: 4.31085205078125\n",
      "Forecast loss: 1.346412181854248\n",
      "========= Epoch 18 finished =========\n",
      "Training time: 4.227663040161133\n",
      "Forecast loss: 1.3344746828079224\n",
      "========= Epoch 19 finished =========\n",
      "Training time: 4.5686869621276855\n",
      "Forecast loss: 1.3225557804107666\n",
      "========= Epoch 20 finished =========\n",
      "Training time: 4.049487113952637\n",
      "Forecast loss: 1.3107309341430664\n",
      "========= Epoch 21 finished =========\n",
      "Training time: 4.041414022445679\n",
      "Forecast loss: 1.2990400791168213\n",
      "========= Epoch 22 finished =========\n",
      "Training time: 4.035434007644653\n",
      "Forecast loss: 1.2874659299850464\n",
      "========= Epoch 23 finished =========\n",
      "Training time: 4.054742097854614\n",
      "Forecast loss: 1.2760428190231323\n",
      "========= Epoch 24 finished =========\n",
      "Training time: 4.131173133850098\n",
      "Forecast loss: 1.264723300933838\n",
      "========= Epoch 25 finished =========\n",
      "Training time: 4.089372873306274\n",
      "Forecast loss: 1.2535290718078613\n",
      "========= Epoch 26 finished =========\n",
      "Training time: 4.030325174331665\n",
      "Forecast loss: 1.2425321340560913\n",
      "========= Epoch 27 finished =========\n",
      "Training time: 4.0472328662872314\n",
      "Forecast loss: 1.231684923171997\n",
      "========= Epoch 28 finished =========\n",
      "Training time: 4.035728216171265\n",
      "Forecast loss: 1.2211531400680542\n",
      "========= Epoch 29 finished =========\n",
      "Training time: 4.102286100387573\n",
      "Forecast loss: 1.2107830047607422\n",
      "========= Epoch 30 finished =========\n",
      "Training time: 4.210649251937866\n",
      "Forecast loss: 1.2005696296691895\n",
      "========= Epoch 31 finished =========\n",
      "Training time: 4.065538167953491\n",
      "Forecast loss: 1.1906880140304565\n",
      "========= Epoch 32 finished =========\n",
      "Training time: 4.034393787384033\n",
      "Forecast loss: 1.1809329986572266\n",
      "========= Epoch 33 finished =========\n",
      "Training time: 4.031684160232544\n",
      "Forecast loss: 1.1714283227920532\n",
      "========= Epoch 34 finished =========\n",
      "Training time: 4.065617084503174\n",
      "Forecast loss: 1.1622726917266846\n",
      "========= Epoch 35 finished =========\n",
      "Training time: 4.071606874465942\n",
      "Forecast loss: 1.1532654762268066\n",
      "========= Epoch 36 finished =========\n",
      "Training time: 4.044229030609131\n",
      "Forecast loss: 1.1445554494857788\n",
      "========= Epoch 37 finished =========\n",
      "Training time: 4.0126259326934814\n",
      "Forecast loss: 1.136101484298706\n",
      "========= Epoch 38 finished =========\n",
      "Training time: 4.035141706466675\n",
      "Forecast loss: 1.127973198890686\n",
      "========= Epoch 39 finished =========\n",
      "Training time: 4.030961275100708\n",
      "Forecast loss: 1.1200073957443237\n",
      "========= Epoch 40 finished =========\n",
      "Training time: 4.010570049285889\n",
      "Forecast loss: 1.1123756170272827\n",
      "========= Epoch 41 finished =========\n",
      "Training time: 4.05111289024353\n",
      "Forecast loss: 1.1050370931625366\n",
      "========= Epoch 42 finished =========\n",
      "Training time: 4.012663125991821\n",
      "Forecast loss: 1.0978796482086182\n",
      "========= Epoch 43 finished =========\n",
      "Training time: 4.047582149505615\n",
      "Forecast loss: 1.0907469987869263\n",
      "========= Epoch 44 finished =========\n",
      "Training time: 4.051337957382202\n",
      "Forecast loss: 1.0834884643554688\n",
      "========= Epoch 45 finished =========\n",
      "Training time: 4.496301174163818\n",
      "Forecast loss: 1.0758634805679321\n",
      "========= Epoch 46 finished =========\n",
      "Training time: 4.000946044921875\n",
      "Forecast loss: 1.06808602809906\n",
      "========= Epoch 47 finished =========\n",
      "Training time: 3.9913718700408936\n",
      "Forecast loss: 1.0599255561828613\n",
      "========= Epoch 48 finished =========\n",
      "Training time: 4.042303800582886\n",
      "Forecast loss: 1.051894187927246\n",
      "========= Epoch 49 finished =========\n",
      "Training time: 4.035574197769165\n",
      "Forecast loss: 1.0440459251403809\n",
      "========= Epoch 50 finished =========\n",
      "Training time: 4.0024330615997314\n",
      "Forecast loss: 1.0367838144302368\n",
      "========= Epoch 51 finished =========\n",
      "Training time: 4.032378911972046\n",
      "Forecast loss: 1.029956579208374\n",
      "========= Epoch 52 finished =========\n",
      "Training time: 4.038404703140259\n",
      "Forecast loss: 1.0232264995574951\n",
      "========= Epoch 53 finished =========\n",
      "Training time: 4.032974004745483\n",
      "Forecast loss: 1.0163345336914062\n",
      "========= Epoch 54 finished =========\n",
      "Training time: 4.026637077331543\n",
      "Forecast loss: 1.0092617273330688\n",
      "========= Epoch 55 finished =========\n",
      "Training time: 4.018116235733032\n",
      "Forecast loss: 1.0018682479858398\n",
      "========= Epoch 56 finished =========\n",
      "Training time: 4.098747968673706\n",
      "Forecast loss: 0.9943298101425171\n",
      "========= Epoch 57 finished =========\n",
      "Training time: 4.052431106567383\n",
      "Forecast loss: 0.9867751002311707\n",
      "========= Epoch 58 finished =========\n",
      "Training time: 4.00518798828125\n",
      "Forecast loss: 0.9793863892555237\n",
      "========= Epoch 59 finished =========\n",
      "Training time: 4.006850957870483\n",
      "Forecast loss: 0.9722404479980469\n",
      "========= Epoch 60 finished =========\n",
      "Training time: 4.041762113571167\n",
      "Forecast loss: 0.9651965498924255\n",
      "========= Epoch 61 finished =========\n",
      "Training time: 4.026202201843262\n",
      "Forecast loss: 0.9581454396247864\n",
      "========= Epoch 62 finished =========\n",
      "Training time: 4.092679023742676\n",
      "Forecast loss: 0.951076865196228\n",
      "========= Epoch 63 finished =========\n",
      "Training time: 4.1056671142578125\n",
      "Forecast loss: 0.9436972737312317\n",
      "========= Epoch 64 finished =========\n",
      "Training time: 4.110238075256348\n",
      "Forecast loss: 0.936281144618988\n",
      "========= Epoch 65 finished =========\n",
      "Training time: 4.282068967819214\n",
      "Forecast loss: 0.9291171431541443\n",
      "========= Epoch 66 finished =========\n",
      "Training time: 4.023025274276733\n",
      "Forecast loss: 0.922153115272522\n",
      "========= Epoch 67 finished =========\n",
      "Training time: 4.060157060623169\n",
      "Forecast loss: 0.9155673384666443\n",
      "========= Epoch 68 finished =========\n",
      "Training time: 4.013468265533447\n",
      "Forecast loss: 0.9091829061508179\n",
      "========= Epoch 69 finished =========\n",
      "Training time: 4.760342121124268\n",
      "Forecast loss: 0.9029702544212341\n",
      "========= Epoch 70 finished =========\n",
      "Training time: 4.219966888427734\n",
      "Forecast loss: 0.8969061374664307\n",
      "========= Epoch 71 finished =========\n",
      "Training time: 4.027227878570557\n",
      "Forecast loss: 0.8908336758613586\n",
      "========= Epoch 72 finished =========\n",
      "Training time: 4.1111979484558105\n",
      "Forecast loss: 0.884574830532074\n",
      "========= Epoch 73 finished =========\n",
      "Training time: 4.04957389831543\n",
      "Forecast loss: 0.8780860900878906\n",
      "========= Epoch 74 finished =========\n",
      "Training time: 4.181226015090942\n",
      "Forecast loss: 0.8712702989578247\n",
      "========= Epoch 75 finished =========\n",
      "Training time: 4.681434869766235\n",
      "Forecast loss: 0.8641723394393921\n",
      "========= Epoch 76 finished =========\n",
      "Training time: 4.52649998664856\n",
      "Forecast loss: 0.8570207953453064\n",
      "========= Epoch 77 finished =========\n",
      "Training time: 4.531083106994629\n",
      "Forecast loss: 0.8501694798469543\n"
     ]
    },
    {
     "name": "stdout",
     "output_type": "stream",
     "text": [
      "========= Epoch 78 finished =========\n",
      "Training time: 4.12015175819397\n",
      "Forecast loss: 0.8435063362121582\n",
      "========= Epoch 79 finished =========\n",
      "Training time: 4.021894216537476\n",
      "Forecast loss: 0.8372562527656555\n",
      "========= Epoch 80 finished =========\n",
      "Training time: 4.0946009159088135\n",
      "Forecast loss: 0.8317903280258179\n",
      "========= Epoch 81 finished =========\n",
      "Training time: 4.344043970108032\n",
      "Forecast loss: 0.8266245126724243\n",
      "========= Epoch 82 finished =========\n",
      "Training time: 4.290466070175171\n",
      "Forecast loss: 0.8209888935089111\n",
      "========= Epoch 83 finished =========\n",
      "Training time: 4.240397214889526\n",
      "Forecast loss: 0.8151460886001587\n",
      "========= Epoch 84 finished =========\n",
      "Training time: 4.408114910125732\n",
      "Forecast loss: 0.8091468811035156\n",
      "========= Epoch 85 finished =========\n",
      "Training time: 4.188813209533691\n",
      "Forecast loss: 0.8036678433418274\n",
      "========= Epoch 86 finished =========\n",
      "Training time: 4.027080059051514\n",
      "Forecast loss: 0.7990196943283081\n",
      "========= Epoch 87 finished =========\n",
      "Training time: 4.02662992477417\n",
      "Forecast loss: 0.7948033213615417\n",
      "========= Epoch 88 finished =========\n",
      "Training time: 4.226731777191162\n",
      "Forecast loss: 0.7916691303253174\n",
      "========= Epoch 89 finished =========\n",
      "Training time: 4.3923420906066895\n",
      "Forecast loss: 0.7890626788139343\n",
      "========= Epoch 90 finished =========\n",
      "Training time: 4.394895076751709\n",
      "Forecast loss: 0.786994457244873\n",
      "========= Epoch 91 finished =========\n",
      "Training time: 4.4756951332092285\n",
      "Forecast loss: 0.785088062286377\n",
      "========= Epoch 92 finished =========\n",
      "Training time: 4.228081941604614\n",
      "Forecast loss: 0.7829512357711792\n",
      "========= Epoch 93 finished =========\n",
      "Training time: 4.037516832351685\n",
      "Forecast loss: 0.7804478406906128\n",
      "========= Epoch 94 finished =========\n",
      "Training time: 4.052094221115112\n",
      "Forecast loss: 0.777420699596405\n",
      "========= Epoch 95 finished =========\n",
      "Training time: 4.04227614402771\n",
      "Forecast loss: 0.7732110619544983\n",
      "========= Epoch 96 finished =========\n",
      "Training time: 4.213356018066406\n",
      "Forecast loss: 0.7679979205131531\n",
      "========= Epoch 97 finished =========\n",
      "Training time: 4.282045841217041\n",
      "Forecast loss: 0.7616391777992249\n",
      "========= Epoch 98 finished =========\n",
      "Training time: 4.44881272315979\n",
      "Forecast loss: 0.7548978924751282\n",
      "========= Epoch 99 finished =========\n",
      "Training time: 4.311822891235352\n",
      "Forecast loss: 0.7483097910881042\n",
      "Train finished\n"
     ]
    }
   ],
   "source": [
    "esrnn.fit(data)"
   ]
  },
  {
   "cell_type": "code",
   "execution_count": 7,
   "metadata": {},
   "outputs": [],
   "source": [
    "predictions = esrnn.predict()"
   ]
  },
  {
   "cell_type": "code",
   "execution_count": 8,
   "metadata": {},
   "outputs": [
    {
     "data": {
      "text/html": [
       "<div>\n",
       "<style scoped>\n",
       "    .dataframe tbody tr th:only-of-type {\n",
       "        vertical-align: middle;\n",
       "    }\n",
       "\n",
       "    .dataframe tbody tr th {\n",
       "        vertical-align: top;\n",
       "    }\n",
       "\n",
       "    .dataframe thead th {\n",
       "        text-align: right;\n",
       "    }\n",
       "</style>\n",
       "<table border=\"1\" class=\"dataframe\">\n",
       "  <thead>\n",
       "    <tr style=\"text-align: right;\">\n",
       "      <th></th>\n",
       "      <th>unique_id</th>\n",
       "      <th>ds</th>\n",
       "      <th>y_hat</th>\n",
       "    </tr>\n",
       "  </thead>\n",
       "  <tbody>\n",
       "    <tr>\n",
       "      <th>0</th>\n",
       "      <td>abbv_2013</td>\n",
       "      <td>2013-11-01</td>\n",
       "      <td>45.828186</td>\n",
       "    </tr>\n",
       "    <tr>\n",
       "      <th>1</th>\n",
       "      <td>abbv_2013</td>\n",
       "      <td>2013-11-02</td>\n",
       "      <td>45.317749</td>\n",
       "    </tr>\n",
       "    <tr>\n",
       "      <th>2</th>\n",
       "      <td>abbv_2013</td>\n",
       "      <td>2013-11-03</td>\n",
       "      <td>45.024433</td>\n",
       "    </tr>\n",
       "    <tr>\n",
       "      <th>3</th>\n",
       "      <td>abbv_2013</td>\n",
       "      <td>2013-11-04</td>\n",
       "      <td>44.216354</td>\n",
       "    </tr>\n",
       "    <tr>\n",
       "      <th>4</th>\n",
       "      <td>abbv_2013</td>\n",
       "      <td>2013-11-05</td>\n",
       "      <td>44.057407</td>\n",
       "    </tr>\n",
       "  </tbody>\n",
       "</table>\n",
       "</div>"
      ],
      "text/plain": [
       "   unique_id         ds      y_hat\n",
       "0  abbv_2013 2013-11-01  45.828186\n",
       "1  abbv_2013 2013-11-02  45.317749\n",
       "2  abbv_2013 2013-11-03  45.024433\n",
       "3  abbv_2013 2013-11-04  44.216354\n",
       "4  abbv_2013 2013-11-05  44.057407"
      ]
     },
     "execution_count": 8,
     "metadata": {},
     "output_type": "execute_result"
    }
   ],
   "source": [
    "predictions.head()"
   ]
  },
  {
   "cell_type": "code",
   "execution_count": 13,
   "metadata": {},
   "outputs": [
    {
     "data": {
      "image/png": "[encoded data removed]",
      "text/plain": [
       "<Figure size 432x288 with 1 Axes>"
      ]
     },
     "metadata": {
      "needs_background": "light"
     },
     "output_type": "display_data"
    }
   ],
   "source": [
    "# Prediction examples\n",
    "id_plot = esrnn.unique_ids[0]\n",
    "plot_prediction(data[data['unique_id']==id_plot].y, predictions[predictions['unique_id']==id_plot].y_hat)"
   ]
  },
  {
   "cell_type": "code",
   "execution_count": 21,
   "metadata": {},
   "outputs": [
    {
     "data": {
      "image/png": "[encoded data removed]",
      "text/plain": [
       "<Figure size 432x288 with 1 Axes>"
      ]
     },
     "metadata": {
      "needs_background": "light"
     },
     "output_type": "display_data"
    }
   ],
   "source": [
    "id_plot = esrnn.unique_ids[2]\n",
    "plot_prediction(data[data['unique_id']==id_plot].y, predictions[predictions['unique_id']==id_plot].y_hat)"
   ]
  },
  {
   "cell_type": "code",
   "execution_count": 10,
   "metadata": {},
   "outputs": [
    {
     "data": {
      "image/png": "[encoded data removed]",
      "text/plain": [
       "<Figure size 432x288 with 1 Axes>"
      ]
     },
     "metadata": {
      "needs_background": "light"
     },
     "output_type": "display_data"
    }
   ],
   "source": [
    "id_plot = esrnn.unique_ids[50]\n",
    "plot_prediction(data[data['unique_id']==id_plot].y, predictions[predictions['unique_id']==id_plot].y_hat)"
   ]
  },
  {
   "cell_type": "code",
   "execution_count": 22,
   "metadata": {},
   "outputs": [
    {
     "data": {
      "image/png": "[encoded data removed]",
      "text/plain": [
       "<Figure size 432x288 with 1 Axes>"
      ]
     },
     "metadata": {
      "needs_background": "light"
     },
     "output_type": "display_data"
    }
   ],
   "source": [
    "id_plot = esrnn.unique_ids[100] #Example of a terrible prediction\n",
    "plot_prediction(data[data['unique_id']==id_plot].y, predictions[predictions['unique_id']==id_plot].y_hat)"
   ]
  },
  {
   "cell_type": "code",
   "execution_count": 23,
   "metadata": {},
   "outputs": [
    {
     "data": {
      "image/png": "[encoded data removed]",
      "text/plain": [
       "<Figure size 432x288 with 1 Axes>"
      ]
     },
     "metadata": {
      "needs_background": "light"
     },
     "output_type": "display_data"
    }
   ],
   "source": [
    "id_plot = esrnn.unique_ids[140]\n",
    "plot_prediction(data[data['unique_id']==id_plot].y, predictions[predictions['unique_id']==id_plot].y_hat)"
   ]
  },
  {
   "cell_type": "code",
   "execution_count": null,
   "metadata": {},
   "outputs": [],
   "source": []
  },
  {
   "cell_type": "code",
   "execution_count": null,
   "metadata": {},
   "outputs": [],
   "source": []
  }
 ],
 "metadata": {
  "kernelspec": {
   "display_name": "forecast",
   "language": "python",
   "name": "forecast"
  },
  "language_info": {
   "codemirror_mode": {
    "name": "ipython",
    "version": 3
   },
   "file_extension": ".py",
   "mimetype": "text/x-python",
   "name": "python",
   "nbconvert_exporter": "python",
   "pygments_lexer": "ipython3",
   "version": "3.6.8"
  }
 },
 "nbformat": 4,
 "nbformat_minor": 4
}
